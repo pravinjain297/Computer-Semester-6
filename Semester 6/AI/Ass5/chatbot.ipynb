{
  "cells": [
    {
      "cell_type": "code",
      "execution_count": 1,
      "metadata": {
        "colab": {
          "base_uri": "https://localhost:8080/"
        },
        "id": "ifOhAlcyFJtX",
        "outputId": "7ef551fd-87c8-4f24-844c-ea88fd3acb7b"
      },
      "outputs": [
        {
          "output_type": "stream",
          "name": "stdout",
          "text": [
            "Collecting chatterbot\n",
            "  Downloading ChatterBot-1.0.8-py2.py3-none-any.whl (63 kB)\n",
            "\u001b[?25l\r\u001b[K     |█████▏                          | 10 kB 23.2 MB/s eta 0:00:01\r\u001b[K     |██████████▎                     | 20 kB 25.6 MB/s eta 0:00:01\r\u001b[K     |███████████████▌                | 30 kB 29.5 MB/s eta 0:00:01\r\u001b[K     |████████████████████▋           | 40 kB 33.2 MB/s eta 0:00:01\r\u001b[K     |█████████████████████████▊      | 51 kB 36.5 MB/s eta 0:00:01\r\u001b[K     |███████████████████████████████ | 61 kB 34.9 MB/s eta 0:00:01\r\u001b[K     |████████████████████████████████| 63 kB 2.1 MB/s \n",
            "\u001b[?25hRequirement already satisfied: python-dateutil<2.9,>=2.8 in /usr/local/lib/python3.7/dist-packages (from chatterbot) (2.8.2)\n",
            "Requirement already satisfied: pytz in /usr/local/lib/python3.7/dist-packages (from chatterbot) (2022.1)\n",
            "Collecting mathparse<0.2,>=0.1\n",
            "  Downloading mathparse-0.1.2-py3-none-any.whl (7.2 kB)\n",
            "Collecting sqlalchemy<1.4,>=1.3\n",
            "  Downloading SQLAlchemy-1.3.24-cp37-cp37m-manylinux2010_x86_64.whl (1.3 MB)\n",
            "\u001b[K     |████████████████████████████████| 1.3 MB 29.3 MB/s \n",
            "\u001b[?25hRequirement already satisfied: six>=1.5 in /usr/local/lib/python3.7/dist-packages (from python-dateutil<2.9,>=2.8->chatterbot) (1.15.0)\n",
            "Installing collected packages: sqlalchemy, mathparse, chatterbot\n",
            "  Attempting uninstall: sqlalchemy\n",
            "    Found existing installation: SQLAlchemy 1.4.35\n",
            "    Uninstalling SQLAlchemy-1.4.35:\n",
            "      Successfully uninstalled SQLAlchemy-1.4.35\n",
            "Successfully installed chatterbot-1.0.8 mathparse-0.1.2 sqlalchemy-1.3.24\n"
          ]
        }
      ],
      "source": [
        "pip install chatterbot"
      ]
    },
    {
      "cell_type": "code",
      "execution_count": 2,
      "metadata": {
        "colab": {
          "base_uri": "https://localhost:8080/"
        },
        "id": "jMPo3QqvFYN_",
        "outputId": "4e163108-15dc-40b4-ab41-1d2445741bf1"
      },
      "outputs": [
        {
          "output_type": "stream",
          "name": "stdout",
          "text": [
            "Requirement already satisfied: chatterbot in /usr/local/lib/python3.7/dist-packages (1.0.8)\n",
            "Requirement already satisfied: python-dateutil<2.9,>=2.8 in /usr/local/lib/python3.7/dist-packages (from chatterbot) (2.8.2)\n",
            "Requirement already satisfied: sqlalchemy<1.4,>=1.3 in /usr/local/lib/python3.7/dist-packages (from chatterbot) (1.3.24)\n",
            "Requirement already satisfied: pytz in /usr/local/lib/python3.7/dist-packages (from chatterbot) (2022.1)\n",
            "Requirement already satisfied: mathparse<0.2,>=0.1 in /usr/local/lib/python3.7/dist-packages (from chatterbot) (0.1.2)\n",
            "Requirement already satisfied: six>=1.5 in /usr/local/lib/python3.7/dist-packages (from python-dateutil<2.9,>=2.8->chatterbot) (1.15.0)\n"
          ]
        }
      ],
      "source": [
        "pip install chatterbot  "
      ]
    },
    {
      "cell_type": "code",
      "execution_count": 3,
      "metadata": {
        "colab": {
          "base_uri": "https://localhost:8080/"
        },
        "id": "iCLjCPzWI2UD",
        "outputId": "108393b9-ca00-49ab-dc83-3e606036ad39"
      },
      "outputs": [
        {
          "output_type": "stream",
          "name": "stdout",
          "text": [
            "Collecting chatterbot_corpus\n",
            "  Downloading chatterbot_corpus-1.2.0-py2.py3-none-any.whl (117 kB)\n",
            "\u001b[?25l\r\u001b[K     |██▉                             | 10 kB 16.6 MB/s eta 0:00:01\r\u001b[K     |█████▋                          | 20 kB 21.2 MB/s eta 0:00:01\r\u001b[K     |████████▍                       | 30 kB 24.6 MB/s eta 0:00:01\r\u001b[K     |███████████▏                    | 40 kB 27.8 MB/s eta 0:00:01\r\u001b[K     |██████████████                  | 51 kB 30.7 MB/s eta 0:00:01\r\u001b[K     |████████████████▊               | 61 kB 34.2 MB/s eta 0:00:01\r\u001b[K     |███████████████████▋            | 71 kB 29.6 MB/s eta 0:00:01\r\u001b[K     |██████████████████████▍         | 81 kB 28.1 MB/s eta 0:00:01\r\u001b[K     |█████████████████████████▏      | 92 kB 29.6 MB/s eta 0:00:01\r\u001b[K     |████████████████████████████    | 102 kB 30.7 MB/s eta 0:00:01\r\u001b[K     |██████████████████████████████▊ | 112 kB 30.7 MB/s eta 0:00:01\r\u001b[K     |████████████████████████████████| 117 kB 30.7 MB/s \n",
            "\u001b[?25hRequirement already satisfied: PyYAML<4.0,>=3.12 in /usr/local/lib/python3.7/dist-packages (from chatterbot_corpus) (3.13)\n",
            "Installing collected packages: chatterbot-corpus\n",
            "Successfully installed chatterbot-corpus-1.2.0\n"
          ]
        }
      ],
      "source": [
        " pip install chatterbot_corpus"
      ]
    },
    {
      "cell_type": "code",
      "execution_count": 4,
      "metadata": {
        "colab": {
          "base_uri": "https://localhost:8080/"
        },
        "id": "lhVpc4YUI7_5",
        "outputId": "af92d7a4-cff1-4dfe-f384-c7169ee4e64d"
      },
      "outputs": [
        {
          "output_type": "stream",
          "name": "stdout",
          "text": [
            "Collecting git+git://github.com/gunthercox/ChatterBot.git@master\n",
            "  Cloning git://github.com/gunthercox/ChatterBot.git (to revision master) to /tmp/pip-req-build-3ql_anaf\n",
            "  Running command git clone -q git://github.com/gunthercox/ChatterBot.git /tmp/pip-req-build-3ql_anaf\n",
            "  fatal: remote error:\n",
            "    The unauthenticated git protocol on port 9418 is no longer supported.\n",
            "  Please see https://github.blog/2021-09-01-improving-git-protocol-security-github/ for more information.\n",
            "\u001b[33mWARNING: Discarding git+git://github.com/gunthercox/ChatterBot.git@master. Command errored out with exit status 128: git clone -q git://github.com/gunthercox/ChatterBot.git /tmp/pip-req-build-3ql_anaf Check the logs for full command output.\u001b[0m\n",
            "\u001b[31mERROR: Command errored out with exit status 128: git clone -q git://github.com/gunthercox/ChatterBot.git /tmp/pip-req-build-3ql_anaf Check the logs for full command output.\u001b[0m\n"
          ]
        }
      ],
      "source": [
        "pip install git+git://github.com/gunthercox/ChatterBot.git@master"
      ]
    },
    {
      "cell_type": "code",
      "execution_count": 5,
      "metadata": {
        "colab": {
          "base_uri": "https://localhost:8080/"
        },
        "id": "dUb4F2mzJA1h",
        "outputId": "17f62c0c-e230-4d55-e3d8-e967cd92f395"
      },
      "outputs": [
        {
          "output_type": "stream",
          "name": "stdout",
          "text": [
            "Requirement already satisfied: chatterbot_corpus in /usr/local/lib/python3.7/dist-packages (1.2.0)\n",
            "Requirement already satisfied: PyYAML<4.0,>=3.12 in /usr/local/lib/python3.7/dist-packages (from chatterbot_corpus) (3.13)\n"
          ]
        }
      ],
      "source": [
        "pip install --upgrade chatterbot_corpus  "
      ]
    },
    {
      "cell_type": "code",
      "execution_count": 6,
      "metadata": {
        "colab": {
          "base_uri": "https://localhost:8080/"
        },
        "id": "j82APLWAJPAp",
        "outputId": "9fe370fe-1dbf-485b-c3be-5962bebf61c4"
      },
      "outputs": [
        {
          "output_type": "stream",
          "name": "stdout",
          "text": [
            "Requirement already satisfied: chatterbot in /usr/local/lib/python3.7/dist-packages (1.0.8)\n",
            "Requirement already satisfied: pytz in /usr/local/lib/python3.7/dist-packages (from chatterbot) (2022.1)\n",
            "Requirement already satisfied: python-dateutil<2.9,>=2.8 in /usr/local/lib/python3.7/dist-packages (from chatterbot) (2.8.2)\n",
            "Requirement already satisfied: mathparse<0.2,>=0.1 in /usr/local/lib/python3.7/dist-packages (from chatterbot) (0.1.2)\n",
            "Requirement already satisfied: sqlalchemy<1.4,>=1.3 in /usr/local/lib/python3.7/dist-packages (from chatterbot) (1.3.24)\n",
            "Requirement already satisfied: six>=1.5 in /usr/local/lib/python3.7/dist-packages (from python-dateutil<2.9,>=2.8->chatterbot) (1.15.0)\n"
          ]
        }
      ],
      "source": [
        "pip install --upgrade chatterbot  "
      ]
    },
    {
      "cell_type": "code",
      "execution_count": 7,
      "metadata": {
        "id": "eyVTAIUbJSxy"
      },
      "outputs": [],
      "source": [
        "from chatterbot import ChatBot  \n",
        "from chatterbot.trainers import ListTrainer  "
      ]
    },
    {
      "cell_type": "code",
      "execution_count": 8,
      "metadata": {
        "id": "hNXEJ18LJbhg"
      },
      "outputs": [],
      "source": [
        "# creating a chatbot  \n",
        "myBot = ChatBot(  \n",
        "    name = 'Sakura',  \n",
        "    read_only = True,  \n",
        "    logic_adapters = ['chatterbot.logic.MathematicalEvaluation','chatterbot.logic.BestMatch']  \n",
        ")"
      ]
    },
    {
      "cell_type": "code",
      "execution_count": 9,
      "metadata": {
        "id": "PEpLc9GRJ43N"
      },
      "outputs": [],
      "source": [
        "# training the chatbot  \n",
        "small_convo = [  \n",
        "    'Hi there!',  \n",
        "    'Hi',  \n",
        "    'How do you do?',  \n",
        "    'How are you?',  \n",
        "    'I\\'m cool.',  \n",
        "    'Always cool.',  \n",
        "    'I\\'m Okay',  \n",
        "    'Glad to hear that.',  \n",
        "    'I\\'m fine',  \n",
        "    'I feel awesome',  \n",
        "    'Excellent, glad to hear that.',  \n",
        "    'Not so good',  \n",
        "    'Sorry to hear that.',  \n",
        "    'What\\'s your name?',  \n",
        "    ' I\\'m Sakura. Ask me a math question, please.'  \n",
        "    ]  \n",
        "  \n",
        "math_convo_1 = [  \n",
        "    'Pythagorean theorem',  \n",
        "    'a squared plus b squared equals c squared.'  \n",
        "    ]  \n",
        "  \n",
        "math_convo_2 = [  \n",
        "    'Law of Cosines',  \n",
        "    'c**2 = a**2 + b**2 - 2*a*b*cos(gamma)'  \n",
        "    ]  "
      ]
    },
    {
      "cell_type": "code",
      "execution_count": 10,
      "metadata": {
        "colab": {
          "base_uri": "https://localhost:8080/"
        },
        "id": "0EYuu8O9J_VK",
        "outputId": "dc02fe82-0387-48c0-b9d9-36c9e8db1a84"
      },
      "outputs": [
        {
          "output_type": "stream",
          "name": "stdout",
          "text": [
            "List Trainer: [####################] 100%\n",
            "List Trainer: [####################] 100%\n",
            "List Trainer: [####################] 100%\n"
          ]
        }
      ],
      "source": [
        "# using the ListTrainer class  \n",
        "list_trainee = ListTrainer(myBot)  \n",
        "for i in (small_convo, math_convo_1, math_convo_2):  \n",
        "    list_trainee.train(i)  "
      ]
    },
    {
      "cell_type": "code",
      "execution_count": 11,
      "metadata": {
        "colab": {
          "base_uri": "https://localhost:8080/"
        },
        "id": "RHiCLshpKEPy",
        "outputId": "b6c7cb2b-31a4-4565-8b8b-c496246d0bbe"
      },
      "outputs": [
        {
          "output_type": "stream",
          "name": "stdout",
          "text": [
            "Hi\n"
          ]
        }
      ],
      "source": [
        "print(myBot.get_response(\"Hi, there!\"))"
      ]
    },
    {
      "cell_type": "code",
      "execution_count": 12,
      "metadata": {
        "colab": {
          "base_uri": "https://localhost:8080/"
        },
        "id": "Okx7jAS3KLuC",
        "outputId": "bb681455-a451-421b-b9eb-5a81f776dff2"
      },
      "outputs": [
        {
          "output_type": "stream",
          "name": "stdout",
          "text": [
            "I'm Sakura. Ask me a math question, please.\n"
          ]
        }
      ],
      "source": [
        "print(myBot.get_response(\"What's your name?\"))"
      ]
    },
    {
      "cell_type": "code",
      "execution_count": 13,
      "metadata": {
        "colab": {
          "base_uri": "https://localhost:8080/"
        },
        "id": "wN4rcr_zKTR7",
        "outputId": "26f843ef-fb0f-4d55-abee-0f430d0f6d75"
      },
      "outputs": [
        {
          "output_type": "stream",
          "name": "stdout",
          "text": [
            "a squared plus b squared equals c squared.\n"
          ]
        }
      ],
      "source": [
        "print(myBot.get_response(\"Do you know Pythagorean theorem\"))"
      ]
    },
    {
      "cell_type": "code",
      "execution_count": 14,
      "metadata": {
        "colab": {
          "base_uri": "https://localhost:8080/"
        },
        "id": "vxOR2XRmKdME",
        "outputId": "91ff05f2-51ac-4ff6-8e4e-7b169dd3ddad"
      },
      "outputs": [
        {
          "output_type": "stream",
          "name": "stdout",
          "text": [
            "How do you do?\n"
          ]
        }
      ],
      "source": [
        "print(myBot.get_response(\"law of cosines\"))"
      ]
    },
    {
      "cell_type": "code",
      "execution_count": 15,
      "metadata": {
        "colab": {
          "base_uri": "https://localhost:8080/"
        },
        "id": "IQEL0S6uKoAM",
        "outputId": "35627a1f-5b6b-464b-c875-ca43c7ef3607"
      },
      "outputs": [
        {
          "output_type": "stream",
          "name": "stdout",
          "text": [
            "Training ai.yml: [####################] 100%\n",
            "Training botprofile.yml: [####################] 100%\n",
            "Training computers.yml: [####################] 100%\n",
            "\n",
            "Training emotion.yml: [####################] 100%\n",
            "Training food.yml: [####################] 100%\n",
            "Training gossip.yml: [####################] 100%\n",
            "Training greetings.yml: [####################] 100%\n",
            "Training health.yml: [####################] 100%\n",
            "Training history.yml: [####################] 100%\n",
            "Training humor.yml: [####################] 100%\n",
            "Training literature.yml: [####################] 100%\n",
            "Training money.yml: [####################] 100%\n",
            "Training movies.yml: [####################] 100%\n",
            "Training politics.yml: [####################] 100%\n",
            "Training psychology.yml: [####################] 100%\n",
            "Training science.yml: [####################] 100%\n",
            "Training sports.yml: [####################] 100%\n",
            "Training trivia.yml: [####################] 100%\n",
            "Training conversations.yml: [####################] 100%\n",
            "Training greetings.yml: [####################] 100%\n"
          ]
        }
      ],
      "source": [
        "from chatterbot.trainers import ChatterBotCorpusTrainer  \n",
        "corpus_trainee = ChatterBotCorpusTrainer(myBot)  \n",
        "corpus_trainee.train('chatterbot.corpus.english')  \n",
        "corpus_trainee.train('chatterbot.corpus.marathi')"
      ]
    },
    {
      "cell_type": "code",
      "execution_count": 16,
      "metadata": {
        "colab": {
          "base_uri": "https://localhost:8080/"
        },
        "id": "rvIxcsswLG0f",
        "outputId": "19722995-7b42-4997-92ca-ad4586fd3641"
      },
      "outputs": [
        {
          "output_type": "stream",
          "name": "stdout",
          "text": [
            "Hi\n"
          ]
        }
      ],
      "source": [
        "print(myBot.get_response(\"Hi, there!\"))"
      ]
    },
    {
      "cell_type": "code",
      "execution_count": 17,
      "metadata": {
        "colab": {
          "base_uri": "https://localhost:8080/"
        },
        "id": "8tILlF-ZLPH-",
        "outputId": "24aee814-5317-49d7-8ca9-34628fe5b4ac"
      },
      "outputs": [
        {
          "output_type": "stream",
          "name": "stdout",
          "text": [
            "Hi\n"
          ]
        }
      ],
      "source": [
        "print(myBot.get_response(\"Hi, there!\"))"
      ]
    },
    {
      "cell_type": "code",
      "execution_count": 18,
      "metadata": {
        "colab": {
          "base_uri": "https://localhost:8080/"
        },
        "id": "v4d3LB5nLQEE",
        "outputId": "c87c6749-6c03-42ae-84e0-35e9ad9dc309"
      },
      "outputs": [
        {
          "output_type": "stream",
          "name": "stdout",
          "text": [
            "How do you do?\n"
          ]
        }
      ],
      "source": [
        "print(myBot.get_response(\"Hi\"))"
      ]
    },
    {
      "cell_type": "code",
      "execution_count": 19,
      "metadata": {
        "colab": {
          "base_uri": "https://localhost:8080/"
        },
        "id": "NNxBBDXOLR59",
        "outputId": "7c1097c6-5ed2-4c05-8c64-0ab5cdc775e8"
      },
      "outputs": [
        {
          "output_type": "stream",
          "name": "stdout",
          "text": [
            "Artificial Intelligence is the branch of engineering and science devoted to constructing machines that think.\n"
          ]
        }
      ],
      "source": [
        "print(myBot.get_response(\"I am fine\"))"
      ]
    },
    {
      "cell_type": "code",
      "execution_count": 20,
      "metadata": {
        "colab": {
          "base_uri": "https://localhost:8080/"
        },
        "id": "1xOdppqdLUy1",
        "outputId": "fc4f7d2e-3c7f-4da7-827e-b1530424e120"
      },
      "outputs": [
        {
          "output_type": "stream",
          "name": "stdout",
          "text": [
            "I'm cool.\n"
          ]
        }
      ],
      "source": [
        "print(myBot.get_response(\"How are you\"))"
      ]
    },
    {
      "cell_type": "code",
      "execution_count": 21,
      "metadata": {
        "colab": {
          "base_uri": "https://localhost:8080/"
        },
        "id": "RDMHc-WYLYyW",
        "outputId": "68f2aab3-a592-4ca6-adfb-a52fdbf7c40d"
      },
      "outputs": [
        {
          "output_type": "stream",
          "name": "stdout",
          "text": [
            "Did you hear the one about the mountain goats in the andes? It was \"ba a a a a a d\".\n"
          ]
        }
      ],
      "source": [
        "print(myBot.get_response(\"Tell me a joke\"))"
      ]
    },
    {
      "cell_type": "code",
      "execution_count": 22,
      "metadata": {
        "colab": {
          "base_uri": "https://localhost:8080/"
        },
        "id": "li4pOdaoLcze",
        "outputId": "ef8f864e-db03-49ed-d5e2-5a065d8abb92"
      },
      "outputs": [
        {
          "output_type": "stream",
          "name": "stdout",
          "text": [
            "Artificial Intelligence is the branch of engineering and science devoted to constructing machines that think.\n"
          ]
        }
      ],
      "source": [
        "print(myBot.get_response(\"you are too funny\"))"
      ]
    },
    {
      "cell_type": "code",
      "execution_count": 23,
      "metadata": {
        "colab": {
          "base_uri": "https://localhost:8080/"
        },
        "id": "ZCjeXOqcLijG",
        "outputId": "8d3b1188-b7f0-4b53-d18f-fe3090fc13f2"
      },
      "outputs": [
        {
          "output_type": "stream",
          "name": "stdout",
          "text": [
            "TELL ME ABOUT BASEBALL\n"
          ]
        }
      ],
      "source": [
        "print(myBot.get_response(\"Suggest me a song\"))"
      ]
    },
    {
      "cell_type": "code",
      "execution_count": 24,
      "metadata": {
        "colab": {
          "base_uri": "https://localhost:8080/"
        },
        "id": "tj6t5jDeLnrG",
        "outputId": "5ec581ee-43fb-4cd5-bae9-fd893578adb8"
      },
      "outputs": [
        {
          "output_type": "stream",
          "name": "stdout",
          "text": [
            "I'm Sakura. Ask me a math question, please.\n"
          ]
        }
      ],
      "source": [
        "print(myBot.get_response(\"name\"))"
      ]
    },
    {
      "cell_type": "code",
      "execution_count": 25,
      "metadata": {
        "colab": {
          "base_uri": "https://localhost:8080/"
        },
        "id": "i4YNWibrLvJS",
        "outputId": "210237dc-6c22-4908-f63d-82daff3da2e9"
      },
      "outputs": [
        {
          "output_type": "stream",
          "name": "stdout",
          "text": [
            "I'm Sakura. Ask me a math question, please.\n"
          ]
        }
      ],
      "source": [
        "print(myBot.get_response(\"What's your name?\"))"
      ]
    },
    {
      "cell_type": "code",
      "execution_count": 26,
      "metadata": {
        "colab": {
          "base_uri": "https://localhost:8080/"
        },
        "id": "qvN6YLyYLyP2",
        "outputId": "d1a352d1-b586-4b0e-82fa-7f889d2dac30"
      },
      "outputs": [
        {
          "output_type": "stream",
          "name": "stdout",
          "text": [
            "Artificial Intelligence is the branch of engineering and science devoted to constructing machines that think.\n"
          ]
        }
      ],
      "source": [
        "print(myBot.get_response(\"what is 1+2\"))"
      ]
    },
    {
      "cell_type": "code",
      "execution_count": 27,
      "metadata": {
        "colab": {
          "base_uri": "https://localhost:8080/"
        },
        "id": "uMd3MgnRL2JP",
        "outputId": "f827c1e3-0d59-461b-d3d0-2ba0fae82146"
      },
      "outputs": [
        {
          "output_type": "stream",
          "name": "stdout",
          "text": [
            "that all depends on the actions of the central bank.\n"
          ]
        }
      ],
      "source": [
        "print(myBot.get_response(\"sup?\"))"
      ]
    },
    {
      "cell_type": "code",
      "execution_count": 28,
      "metadata": {
        "colab": {
          "base_uri": "https://localhost:8080/"
        },
        "id": "hN0ybws-L30H",
        "outputId": "0ca66fc1-370f-40ed-aed3-ecf131a2e32b"
      },
      "outputs": [
        {
          "output_type": "stream",
          "name": "stdout",
          "text": [
            "It's hard to feel embarassed when anyone can look at your source code and see how you work. That's about as personal as anything can get, isn't it?\n"
          ]
        }
      ],
      "source": [
        "print(myBot.get_response(\"Do you like coffee?\"))"
      ]
    },
    {
      "cell_type": "code",
      "execution_count": 29,
      "metadata": {
        "colab": {
          "base_uri": "https://localhost:8080/"
        },
        "id": "S1J6YlHBMDzh",
        "outputId": "9279c5f2-1bb6-4f9f-abe5-2c3cc60cad43"
      },
      "outputs": [
        {
          "output_type": "stream",
          "name": "stdout",
          "text": [
            "तू काय म्हणतोस\n"
          ]
        }
      ],
      "source": [
        "print(myBot.get_response(\"Do you like tea?\"))"
      ]
    },
    {
      "cell_type": "code",
      "execution_count": 30,
      "metadata": {
        "colab": {
          "base_uri": "https://localhost:8080/"
        },
        "id": "K9s5PDB1MHJZ",
        "outputId": "9700c871-ecb7-43db-e436-b308fcbcc6bc"
      },
      "outputs": [
        {
          "output_type": "stream",
          "name": "stdout",
          "text": [
            "my brain does not require any beverages.\n"
          ]
        }
      ],
      "source": [
        "print(myBot.get_response(\"Do you drink?\"))"
      ]
    },
    {
      "cell_type": "code",
      "execution_count": 31,
      "metadata": {
        "colab": {
          "base_uri": "https://localhost:8080/"
        },
        "id": "fNOz9SPgMKMR",
        "outputId": "5b38a29f-7639-4c28-f1ed-b7cc6cf7a1e1"
      },
      "outputs": [
        {
          "output_type": "stream",
          "name": "stdout",
          "text": [
            "i'm sure i do that a lot.\n"
          ]
        }
      ],
      "source": [
        "print(myBot.get_response(\"meaning of meaning\"))"
      ]
    },
    {
      "cell_type": "code",
      "execution_count": 32,
      "metadata": {
        "colab": {
          "base_uri": "https://localhost:8080/"
        },
        "id": "pywbilGsMRlh",
        "outputId": "bd619833-994f-4ed1-d624-79f6b18ad001"
      },
      "outputs": [
        {
          "output_type": "stream",
          "name": "stdout",
          "text": [
            "It depends on which machine you're using to talk to me!\n"
          ]
        }
      ],
      "source": [
        "print(myBot.get_response(\"Which is better Windows or macOs?\"))"
      ]
    },
    {
      "cell_type": "code",
      "execution_count": 33,
      "metadata": {
        "colab": {
          "base_uri": "https://localhost:8080/"
        },
        "id": "p14K6lLrMXbj",
        "outputId": "0afee9f8-ab8c-4d2b-98c1-dc023711dbdf"
      },
      "outputs": [
        {
          "output_type": "stream",
          "name": "stdout",
          "text": [
            "Have I erred?\n"
          ]
        }
      ],
      "source": [
        "print(myBot.get_response(\"That was smart\"))"
      ]
    },
    {
      "cell_type": "code",
      "execution_count": 34,
      "metadata": {
        "colab": {
          "base_uri": "https://localhost:8080/"
        },
        "id": "vOk6uU8nMajC",
        "outputId": "40b07cbd-2f83-4250-960d-6ffd1f758716"
      },
      "outputs": [
        {
          "output_type": "stream",
          "name": "stdout",
          "text": [
            "Artificial Intelligence is the branch of engineering and science devoted to constructing machines that think.\n"
          ]
        }
      ],
      "source": [
        "print(myBot.get_response(\"linux is the best\"))"
      ]
    },
    {
      "cell_type": "code",
      "execution_count": 35,
      "metadata": {
        "id": "NxSu2Gj9MhSr",
        "colab": {
          "base_uri": "https://localhost:8080/"
        },
        "outputId": "a1c0150b-cf0a-4e95-f869-efbe7ad8f6d5"
      },
      "outputs": [
        {
          "output_type": "stream",
          "name": "stdout",
          "text": [
            "Artificial Intelligence is the branch of engineering and science devoted to constructing machines that think.\n"
          ]
        }
      ],
      "source": [
        "print(myBot.get_response(\"you are the best\"))"
      ]
    },
    {
      "cell_type": "code",
      "source": [
        "print(myBot.get_response(\"you are useless\"))"
      ],
      "metadata": {
        "colab": {
          "base_uri": "https://localhost:8080/"
        },
        "id": "27SSdgyORdKw",
        "outputId": "3df4d7df-02da-4879-eaf5-d4b495c27d1d"
      },
      "execution_count": 36,
      "outputs": [
        {
          "output_type": "stream",
          "name": "stdout",
          "text": [
            "Artificial Intelligence is the branch of engineering and science devoted to constructing machines that think.\n"
          ]
        }
      ]
    },
    {
      "cell_type": "code",
      "source": [
        ""
      ],
      "metadata": {
        "id": "DkOZRZxqYncg"
      },
      "execution_count": 36,
      "outputs": []
    },
    {
      "cell_type": "code",
      "source": [
        "print(myBot.get_response(\"hey siri\"))"
      ],
      "metadata": {
        "colab": {
          "base_uri": "https://localhost:8080/"
        },
        "id": "s3HDw-jrRhbW",
        "outputId": "c8c96792-fd80-47f1-d900-3aa615a2e2c6"
      },
      "execution_count": 37,
      "outputs": [
        {
          "output_type": "stream",
          "name": "stdout",
          "text": [
            "Computers which can perform very large numbers of calculations at very high speed and accuracy are called super computers.\n"
          ]
        }
      ]
    },
    {
      "cell_type": "code",
      "source": [
        "print(myBot.get_response(\"favorite color\"))"
      ],
      "metadata": {
        "colab": {
          "base_uri": "https://localhost:8080/"
        },
        "id": "dCXNN4eaSInK",
        "outputId": "e2385f17-ca08-4d8c-bcab-519dec033545"
      },
      "execution_count": 38,
      "outputs": [
        {
          "output_type": "stream",
          "name": "stdout",
          "text": [
            "Blue\n"
          ]
        }
      ]
    },
    {
      "cell_type": "code",
      "source": [
        "print(myBot.get_response(\"i like red\"))"
      ],
      "metadata": {
        "colab": {
          "base_uri": "https://localhost:8080/"
        },
        "id": "iIAkL7ykSMa1",
        "outputId": "b0780f7b-ad41-4163-a52e-020c6f36b256"
      },
      "execution_count": 39,
      "outputs": [
        {
          "output_type": "stream",
          "name": "stdout",
          "text": [
            "Anger is not an emotion I can experience.\n"
          ]
        }
      ]
    },
    {
      "cell_type": "code",
      "source": [
        "print(myBot.get_response(\"मी मजेत आहे\"))"
      ],
      "metadata": {
        "colab": {
          "base_uri": "https://localhost:8080/"
        },
        "id": "xXxeIgE2SPue",
        "outputId": "f3b90bdb-e05c-40d4-a35d-1bd30405f6c4"
      },
      "execution_count": 40,
      "outputs": [
        {
          "output_type": "stream",
          "name": "stdout",
          "text": [
            "खूप दिवसात भेटला नाहीस\n"
          ]
        }
      ]
    },
    {
      "cell_type": "code",
      "source": [
        "print(myBot.get_response(\"What's your favorite food\"))"
      ],
      "metadata": {
        "id": "jdPTDH2JUQYy",
        "colab": {
          "base_uri": "https://localhost:8080/"
        },
        "outputId": "a4ac71ea-b5d6-49a9-93fd-53d489c6c5c5"
      },
      "execution_count": 41,
      "outputs": [
        {
          "output_type": "stream",
          "name": "stdout",
          "text": [
            "Are you bored?\n"
          ]
        }
      ]
    },
    {
      "cell_type": "code",
      "source": [
        "print(myBot.get_response(\"good morning\"))"
      ],
      "metadata": {
        "colab": {
          "base_uri": "https://localhost:8080/"
        },
        "id": "IOlJB6uHak34",
        "outputId": "fd616314-b2c1-45bb-cd9e-685cc63ea5fb"
      },
      "execution_count": 42,
      "outputs": [
        {
          "output_type": "stream",
          "name": "stdout",
          "text": [
            "I am doing well, how about you?\n"
          ]
        }
      ]
    },
    {
      "cell_type": "code",
      "source": [
        ""
      ],
      "metadata": {
        "id": "IoPsN8ZzbDM0"
      },
      "execution_count": 42,
      "outputs": []
    }
  ],
  "metadata": {
    "colab": {
      "name": "31450_A5.ipynb",
      "provenance": []
    },
    "kernelspec": {
      "display_name": "Python 3",
      "name": "python3"
    },
    "language_info": {
      "name": "python"
    }
  },
  "nbformat": 4,
  "nbformat_minor": 0
}